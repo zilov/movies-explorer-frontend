{
 "cells": [
  {
   "cell_type": "code",
   "execution_count": 1,
   "id": "71c75a68",
   "metadata": {},
   "outputs": [],
   "source": [
    "import os\n",
    "main_components_dir = os.path.abspath(\"../src/components/\")\n",
    "index_css = os.path.abspath(\"../src/index.css\")\n",
    "\n",
    "def add_component(component_name, component_dir):\n",
    "    component_folder = os.path.join(component_dir, component_name)\n",
    "    if not os.path.exists(component_folder):\n",
    "        os.mkdir(component_folder)\n",
    "    js = os.path.join(component_folder, f\"{component_name}.js\")\n",
    "    with open(js, 'w') as fw:\n",
    "        fw.write(\n",
    "            f\"\"\"function {component_name}() {{\n",
    "  return(\n",
    "    <div className=\"{component_name.lower()}\"></div>\n",
    "  )\n",
    "}}\n",
    "\n",
    "export default {component_name};\n",
    "            \"\"\"\n",
    "        )\n",
    "    css = os.path.join(component_folder, f\"{component_name}.css\")\n",
    "    with open(css, 'w') as fw:\n",
    "        fw.write(\n",
    "            f\".{component_name.lower()}{{\\n  margin: 0;\\n}}\"\n",
    "        )\n",
    "    with open(index_css, 'a') as fa:\n",
    "        css_rel = os.path.relpath(css, '../src/')\n",
    "        fa.write(f'@import url(\"./{css_rel}\");\\n')"
   ]
  },
  {
   "cell_type": "code",
   "execution_count": 53,
   "id": "8d440a2a",
   "metadata": {},
   "outputs": [],
   "source": [
    "main_components_list = [\n",
    "    'Main', \n",
    "    'Movies',\n",
    "    'SavedMovies',\n",
    "    'Register',\n",
    "    'Login',\n",
    "    'Profile',\n",
    "    'Header',\n",
    "    'Navigation',\n",
    "    'Footer',]\n",
    "\n",
    "in_main = ['Promo', 'NavTab', 'AboutProject', 'Techs', 'AboutMe', 'Portfolio']\n",
    "in_movies = ['SearchForm', 'Preloader', 'MoviesCardList', 'MoviesCard']\n",
    "in_saved_movies = ['MoviesCardList', 'MoviesCard']\n",
    "\n",
    "# for component in main_components_list:\n",
    "#     add_component(component, main_components_dir)\n",
    "    \n",
    "main_dir = os.path.join(main_components_dir, 'Main')\n",
    "\n",
    "# for c in in_main:\n",
    "#     add_component(c, main_dir)\n",
    "    \n",
    "movies_dir = os.path.join(main_components_dir, 'Movies')\n",
    "\n",
    "# for c in in_movies:\n",
    "#     add_component(c, movies_dir)\n",
    "    \n",
    "saved_dir = os.path.join(main_components_dir, 'SavedMovies')\n",
    "\n",
    "# for c in in_saved_movies:\n",
    "#     add_component(c, saved_dir)"
   ]
  },
  {
   "cell_type": "code",
   "execution_count": 51,
   "id": "cb225cde",
   "metadata": {},
   "outputs": [
    {
     "data": {
      "text/plain": [
       "['Main',\n",
       " 'Movies',\n",
       " 'SavedMovies',\n",
       " 'Register',\n",
       " 'Login',\n",
       " 'Profile',\n",
       " 'Header',\n",
       " 'Navigation',\n",
       " 'Footer']"
      ]
     },
     "execution_count": 51,
     "metadata": {},
     "output_type": "execute_result"
    }
   ],
   "source": [
    "main_components_list"
   ]
  },
  {
   "cell_type": "code",
   "execution_count": 2,
   "id": "6934cf42",
   "metadata": {},
   "outputs": [],
   "source": [
    "# add_component('NotFound', main_components_dir)"
   ]
  },
  {
   "cell_type": "code",
   "execution_count": 3,
   "id": "43f483d2",
   "metadata": {},
   "outputs": [],
   "source": [
    "# add_component('FormSection', main_components_dir)"
   ]
  },
  {
   "cell_type": "code",
   "execution_count": null,
   "id": "fa164b24",
   "metadata": {},
   "outputs": [],
   "source": []
  }
 ],
 "metadata": {
  "kernelspec": {
   "display_name": "Python 3 (ipykernel)",
   "language": "python",
   "name": "python3"
  },
  "language_info": {
   "codemirror_mode": {
    "name": "ipython",
    "version": 3
   },
   "file_extension": ".py",
   "mimetype": "text/x-python",
   "name": "python",
   "nbconvert_exporter": "python",
   "pygments_lexer": "ipython3",
   "version": "3.9.5"
  }
 },
 "nbformat": 4,
 "nbformat_minor": 5
}
